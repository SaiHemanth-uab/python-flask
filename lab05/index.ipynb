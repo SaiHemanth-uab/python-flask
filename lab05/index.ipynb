{
 "cells": [
  {
   "cell_type": "code",
   "execution_count": 1,
   "metadata": {},
   "outputs": [
    {
     "name": "stdout",
     "output_type": "stream",
     "text": [
      "Requirement already satisfied: requests in d:\\anaconda\\lib\\site-packages (2.28.1)\n",
      "Requirement already satisfied: idna<4,>=2.5 in d:\\anaconda\\lib\\site-packages (from requests) (3.3)\n",
      "Requirement already satisfied: urllib3<1.27,>=1.21.1 in d:\\anaconda\\lib\\site-packages (from requests) (1.26.11)\n",
      "Requirement already satisfied: charset-normalizer<3,>=2 in d:\\anaconda\\lib\\site-packages (from requests) (2.0.4)\n",
      "Requirement already satisfied: certifi>=2017.4.17 in d:\\anaconda\\lib\\site-packages (from requests) (2022.9.14)\n",
      "Note: you may need to restart the kernel to use updated packages.\n"
     ]
    }
   ],
   "source": [
    "pip install requests"
   ]
  },
  {
   "cell_type": "code",
   "execution_count": 2,
   "metadata": {},
   "outputs": [
    {
     "name": "stdout",
     "output_type": "stream",
     "text": [
      "api Response:  [{'id': 1, 'problem': '3 + 5?'}, {'id': 2, 'problem': '7 * 6?'}, {'id': 3, 'problem': '20 / 5?'}, {'id': 4, 'problem': '20 / 4?'}, {'id': 5, 'problem': '15 - 7?'}, {'id': 6, 'problem': '9 * 9?'}, {'id': 7, 'problem': '27 / 9?'}, {'id': 8, 'problem': '100 - 56?'}, {'id': 9, 'problem': '14 + 26?'}, {'id': 10, 'problem': '64 / 8?'}]\n"
     ]
    }
   ],
   "source": [
    "import requests\n",
    "import json\n",
    "\n",
    "BASE_URL = \"https://michaelgathara.com/api/\"\n",
    "BlazerId = 'smaremal'\n",
    "UserName = 'Sai Hemanth Maremalla'\n",
    "\n",
    "myrequest = requests.get(BASE_URL + \"python-challenge\")\n",
    "\n",
    "pyChallenge = myrequest.json()\n",
    "\n",
    "print(\"api Response: \", pyChallenge)\n",
    "\n"
   ]
  },
  {
   "cell_type": "code",
   "execution_count": 3,
   "metadata": {},
   "outputs": [
    {
     "name": "stdout",
     "output_type": "stream",
     "text": [
      "Blazer Id : smaremal\n",
      "User Name : Sai Hemanth Maremalla\n",
      "id : 1 , Answer: 8\n",
      "id : 2 , Answer: 42\n",
      "id : 3 , Answer: 4.0\n",
      "id : 4 , Answer: 5.0\n",
      "id : 5 , Answer: 8\n",
      "id : 6 , Answer: 81\n",
      "id : 7 , Answer: 3.0\n",
      "id : 8 , Answer: 44\n",
      "id : 9 , Answer: 40\n",
      "id : 10 , Answer: 8.0\n"
     ]
    }
   ],
   "source": [
    "print(\"Blazer Id :\", BlazerId)\n",
    "print(\"User Name :\", UserName)\n",
    "for item in pyChallenge:\n",
    "    print(\"id :\", item['id'], ',',\"Answer:\", eval(item['problem'].replace('?', '')))"
   ]
  },
  {
   "cell_type": "code",
   "execution_count": null,
   "metadata": {},
   "outputs": [],
   "source": []
  }
 ],
 "metadata": {
  "kernelspec": {
   "display_name": "Python 3 (ipykernel)",
   "language": "python",
   "name": "python3"
  },
  "language_info": {
   "codemirror_mode": {
    "name": "ipython",
    "version": 3
   },
   "file_extension": ".py",
   "mimetype": "text/x-python",
   "name": "python",
   "nbconvert_exporter": "python",
   "pygments_lexer": "ipython3",
   "version": "3.9.13"
  }
 },
 "nbformat": 4,
 "nbformat_minor": 2
}
